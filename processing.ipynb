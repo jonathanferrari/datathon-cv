{
 "cells": [
  {
   "cell_type": "code",
   "execution_count": 1,
   "metadata": {},
   "outputs": [],
   "source": [
    "import pandas as pd\n",
    "import numpy as np\n",
    "import matplotlib.pyplot as plt\n",
    "import seaborn as sns\n",
    "import os\n",
    "import cv2"
   ]
  },
  {
   "cell_type": "code",
   "execution_count": 2,
   "metadata": {},
   "outputs": [],
   "source": [
    "df = pd.read_csv(\"data/mTBI/eye_motion_trace/00029_U_4_19_2018_9_18_9_V001.csv\")"
   ]
  },
  {
   "cell_type": "code",
   "execution_count": 6,
   "metadata": {},
   "outputs": [],
   "source": [
    "def average_dataframe(df, n):\n",
    "    return df.groupby(df.index // n).mean()\n",
    "\n",
    "def process(data):\n",
    "    df = data[[\"horizontal_motion[deg]\", \"vertical_motion[deg]\"]]\n",
    "    df.columns = [\"x\", \"y\"]\n",
    "    df = average_dataframe(df, 16)\n",
    "    df[\"frame\"] = df.index\n",
    "    return df[[\"frame\", \"x\", \"y\"]]\n",
    "\n",
    "def jpg_to_df(path):\n",
    "    \"Take in a folder of jpgs and return a dataframe, one row per frame, one column per pixel, in grayscale\"\n",
    "    files = os.listdir(path)\n",
    "    files.sort()\n",
    "    frames = []\n",
    "    for file in files:\n",
    "        img = cv2.imread(path+file, 0)\n",
    "        frames.append(img.flatten())\n",
    "    df = pd.DataFrame(frames)\n",
    "    df.columns = [f\"pixel_{x}\" for x in df.columns]\n",
    "    return df\n",
    "    \n",
    "def create_one_observation_df(name):\n",
    "    motion = process(pd.read_csv(f\"data/mTBI/eye_motion_trace/{name}.csv\"))\n",
    "    frames = jpg_to_df(f\"data/mTBI/video_frames/output_{name}.avi/\")\n",
    "    return pd.concat([motion, frames], axis=1)\n",
    "#create_one_observation_df(\"00029_U_4_19_2018_9_18_9_V001\")"
   ]
  },
  {
   "cell_type": "code",
   "execution_count": 7,
   "metadata": {},
   "outputs": [],
   "source": [
    "names = [fn[:-4] for fn in os.listdir(\"data/mTBI/eye_motion_trace/\")]"
   ]
  },
  {
   "cell_type": "code",
   "execution_count": 9,
   "metadata": {},
   "outputs": [
    {
     "name": "stdout",
     "output_type": "stream",
     "text": [
      "Progress: Completed 1 of 63\n",
      "Progress: Completed 2 of 63\n",
      "Progress: Completed 3 of 63\n",
      "Progress: Completed 4 of 63\n",
      "Progress: Completed 5 of 63\n",
      "Progress: Completed 6 of 63\n",
      "Progress: Completed 7 of 63\n",
      "Progress: Completed 8 of 63\n",
      "Progress: Completed 9 of 63\n",
      "Progress: Completed 10 of 63\n",
      "Progress: Completed 11 of 63\n",
      "Progress: Completed 12 of 63\n",
      "Progress: Completed 13 of 63\n",
      "Progress: Completed 14 of 63\n",
      "Progress: Completed 15 of 63\n",
      "Progress: Completed 16 of 63\n",
      "Progress: Completed 17 of 63\n",
      "Progress: Completed 18 of 63\n",
      "Progress: Completed 19 of 63\n",
      "Progress: Completed 20 of 63\n",
      "Progress: Completed 21 of 63\n",
      "Progress: Completed 22 of 63\n",
      "Progress: Completed 23 of 63\n",
      "Progress: Completed 24 of 63\n",
      "Progress: Completed 25 of 63\n",
      "Progress: Completed 26 of 63\n",
      "Progress: Completed 27 of 63\n",
      "Progress: Completed 28 of 63\n",
      "Progress: Completed 29 of 63\n",
      "Progress: Completed 30 of 63\n",
      "Progress: Completed 31 of 63\n",
      "Progress: Completed 32 of 63\n",
      "Progress: Completed 33 of 63\n",
      "Progress: Completed 34 of 63\n",
      "Progress: Completed 35 of 63\n",
      "Progress: Completed 36 of 63\n",
      "Progress: Completed 37 of 63\n",
      "Progress: Completed 38 of 63\n",
      "Progress: Completed 39 of 63\n",
      "Progress: Completed 40 of 63\n",
      "Progress: Completed 41 of 63\n",
      "Progress: Completed 42 of 63\n",
      "Progress: Completed 43 of 63\n",
      "Progress: Completed 44 of 63\n",
      "Progress: Completed 45 of 63\n",
      "Progress: Completed 46 of 63\n",
      "Progress: Completed 47 of 63\n",
      "Progress: Completed 48 of 63\n",
      "Progress: Completed 49 of 63\n",
      "Progress: Completed 50 of 63\n",
      "Progress: Completed 51 of 63\n",
      "Progress: Completed 52 of 63\n",
      "Progress: Completed 53 of 63\n",
      "Progress: Completed 54 of 63\n",
      "Progress: Completed 55 of 63\n",
      "Progress: Completed 56 of 63\n",
      "Progress: Completed 57 of 63\n",
      "Progress: Completed 58 of 63\n",
      "Progress: Completed 59 of 63\n",
      "Progress: Completed 60 of 63\n",
      "Progress: Completed 61 of 63\n",
      "Progress: Completed 62 of 63\n",
      "Progress: Completed 63 of 63\n"
     ]
    }
   ],
   "source": [
    "for num, name in enumerate(names):\n",
    "    df = process(pd.read_csv(f\"data/mTBI/eye_motion_trace/{name}.csv\"))\n",
    "    print(f\"Progress: Completed {num+1} of {len(names)}\")"
   ]
  },
  {
   "cell_type": "code",
   "execution_count": 14,
   "metadata": {},
   "outputs": [],
   "source": [
    "folders = [f\"data/mTBI/video_frames/output_{name}.avi/\" for name in names]\n",
    "images = np.array([cv2.imread(folder+\"frame_0000.jpg\", 0) for folder in folders])"
   ]
  },
  {
   "cell_type": "code",
   "execution_count": 16,
   "metadata": {},
   "outputs": [],
   "source": [
    "np.save(\"data/mTBI/eye_motion_trace.npy\", images)"
   ]
  },
  {
   "cell_type": "code",
   "execution_count": null,
   "metadata": {},
   "outputs": [],
   "source": []
  }
 ],
 "metadata": {
  "kernelspec": {
   "display_name": "Python 3",
   "language": "python",
   "name": "python3"
  },
  "language_info": {
   "codemirror_mode": {
    "name": "ipython",
    "version": 3
   },
   "file_extension": ".py",
   "mimetype": "text/x-python",
   "name": "python",
   "nbconvert_exporter": "python",
   "pygments_lexer": "ipython3",
   "version": "3.11.2"
  }
 },
 "nbformat": 4,
 "nbformat_minor": 2
}
